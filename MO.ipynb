{
 "cells": [
  {
   "cell_type": "markdown",
   "id": "07462842-95b3-464d-a166-bd294e41ca67",
   "metadata": {},
   "source": [
    "# Calculating molecular orbitals\n",
    "\n",
    "In this notebook, developed by Anders Lervik from the Norwegian University of Science and Technology (https://www.andersle.no) and with the original available from his GitHub repository: (https://github.com/andersle/andersleno/blob/main/2022/mo/ethene.ipynb), we will perform Hartree Fock calculations with pyscf. We will use geometries that RDKit generates, and will not optimize the geometry with pyscf here to save some computational time.\n",
    "\n",
    "We will calculate and visualize the so-called canonical Hartree-Fock molecular orbitals, which are composed of linear combination of atomic orbitals.\n",
    "\n",
    "To create molecules, we will draw then first in 2D, using an automatic SMILES generator that runs in a webbrowser: https://www.cheminfo.org/flavor/malaria/Utilities/SMILES_generator___checker/index.html\n",
    "\n",
    "We will export the structures into a so-called SMILES code, a string-based descriptor for 2D representaton of the molecular structure.\n",
    "\n",
    "In this tutorial, we will use the RDKit tools to convert the SMILES code into a 3D structure, for which we will compute the molecular orbitals. We will start very easy with a water molecule, for which the SMILES code is just \"O\".\n",
    "\n",
    "However, before we can befin, we will need to install a ton of libraries. Will will do that automaticallu with pip... No wories, you can just shift-enter your way through the next entries!"
   ]
  },
  {
   "cell_type": "code",
   "execution_count": null,
   "id": "a6ad64fb-e2f5-446e-aa2a-db6cecdd6831",
   "metadata": {},
   "outputs": [],
   "source": [
    "!pip3 install rdkit py3Dmol pythreejs fortecubeview pyscf seaborn matplotlib scikit-image"
   ]
  },
  {
   "cell_type": "code",
   "execution_count": null,
   "id": "7f81eebf-bd3f-40aa-855f-1e9acedc8276",
   "metadata": {},
   "outputs": [],
   "source": [
    "!pip3 install seaborn matplotlib scikit-image"
   ]
  },
  {
   "cell_type": "markdown",
   "id": "08729135-cdbb-4c01-b37c-73ee321f268b",
   "metadata": {},
   "source": [
    "Next, we import [RDKit](https://www.rdkit.org/) (used for generating coordinates),\n",
    "[py3Dmol](https://pypi.org/project/py3Dmol/)\n",
    "and [fortecubeview](https://github.com/evangelistalab/fortecubeview) (used for visualization),\n",
    "[matplotlib](https://matplotlib.org/) and [seaborn](https://seaborn.pydata.org/) (used for plotting),\n",
    "[pandas](https://pandas.pydata.org/) and [numpy](https://numpy.org/) (used for some numerics results),\n",
    "and [pyscf](https://pyscf.org/) (used for the quantum mechanics)."
   ]
  },
  {
   "cell_type": "code",
   "execution_count": null,
   "id": "ae96734b-006a-4ad5-9b78-e4590c22a577",
   "metadata": {},
   "outputs": [],
   "source": [
    "import pathlib\n",
    "\n",
    "# RDKit imports:\n",
    "from rdkit import Chem\n",
    "from rdkit.Chem import (\n",
    "    AllChem,\n",
    "    rdCoordGen,\n",
    ")\n",
    "from rdkit.Chem.Draw import IPythonConsole\n",
    "\n",
    "IPythonConsole.ipython_useSVG = True  # Use higher quality images for molecules\n",
    "\n",
    "# For visualization of molecules and orbitals:\n",
    "import py3Dmol\n",
    "import fortecubeview\n",
    "\n",
    "# pyscf imports:\n",
    "from pyscf import gto, scf, lo, tools\n",
    "\n",
    "# For plotting\n",
    "import matplotlib\n",
    "from matplotlib import pyplot as plt\n",
    "import seaborn as sns\n",
    "\n",
    "%matplotlib inline\n",
    "sns.set_theme(style=\"ticks\", context=\"talk\", palette=\"muted\")\n",
    "\n",
    "# For numerics:\n",
    "import numpy as np\n",
    "import pandas as pd\n",
    "\n",
    "pd.options.display.float_format = \"{:,.3f}\".format"
   ]
  },
  {
   "cell_type": "markdown",
   "id": "22c829e8-50ab-43b3-8530-5fc5f9dd7894",
   "metadata": {},
   "source": [
    "## Set up the molecule with RDKit"
   ]
  },
  {
   "cell_type": "markdown",
   "id": "aef88238-99db-47c8-9fa6-682d7151ea77",
   "metadata": {},
   "source": [
    "For this example, I will use water - it is a simple molecule and from basic chemistry; bit boring perhaps... \n",
    "The SMILES string for water (H$_2$O) is just a single letter \"O\"."
   ]
  },
  {
   "cell_type": "code",
   "execution_count": null,
   "id": "50a3825d-c274-4211-b41a-70c31387335b",
   "metadata": {},
   "outputs": [],
   "source": [
    "molecule_name = \"water\"\n",
    "molecule = Chem.MolFromSmiles(\"O\")  # Generate the molecule from smiles\n",
    "molecule"
   ]
  },
  {
   "cell_type": "code",
   "execution_count": null,
   "id": "725039e5-52e8-4168-9514-905e4365b554",
   "metadata": {},
   "outputs": [],
   "source": [
    "def get_xyz(molecule, optimize=False):\n",
    "    \"\"\"Get xyz-coordinates for the molecule\"\"\"\n",
    "    mol = Chem.Mol(molecule)\n",
    "    mol = AllChem.AddHs(mol, addCoords=True)\n",
    "    AllChem.EmbedMolecule(mol)\n",
    "    if optimize:  # Optimize the molecules with the MM force field:\n",
    "        AllChem.MMFFOptimizeMolecule(mol)\n",
    "    xyz = []\n",
    "    for lines in Chem.MolToXYZBlock(mol).split(\"\\n\")[2:]:\n",
    "        strip = lines.strip()\n",
    "        if strip:\n",
    "            xyz.append(strip)\n",
    "    xyz = \"\\n\".join(xyz)\n",
    "    return mol, xyz"
   ]
  },
  {
   "cell_type": "code",
   "execution_count": null,
   "id": "34a7f5a4-4ce9-433b-b9b9-5bf7f3e703e1",
   "metadata": {},
   "outputs": [],
   "source": [
    "molecule3d, xyz = get_xyz(molecule)"
   ]
  },
  {
   "cell_type": "code",
   "execution_count": null,
   "id": "f8c4dcf8-5d2e-4769-a6e8-78858079d750",
   "metadata": {},
   "outputs": [],
   "source": [
    "view = py3Dmol.view(\n",
    "    data=Chem.MolToMolBlock(molecule3d),\n",
    "    style={\"stick\": {}, \"sphere\": {\"scale\": 0.3}},\n",
    "    width=300,\n",
    "    height=300,\n",
    ")\n",
    "view.zoomTo()"
   ]
  },
  {
   "cell_type": "markdown",
   "id": "65fca2c7-c6ac-40fd-940a-311f92ff27d0",
   "metadata": {},
   "source": [
    "## Run pyscf and calculate molecular orbitals"
   ]
  },
  {
   "cell_type": "code",
   "execution_count": null,
   "id": "cdb96435-e579-44fa-b8b0-3b98329c2578",
   "metadata": {},
   "outputs": [],
   "source": [
    "def run_calculation(xyz, basis=\"sto-3g\"):\n",
    "    \"\"\"Calculate the energy (+ additional things like MO coefficients) with pyscf.\"\"\"\n",
    "    mol = gto.M(\n",
    "        atom=xyz,\n",
    "        basis=basis,\n",
    "        unit=\"ANG\",\n",
    "        symmetry=True,\n",
    "        charge = 0,\n",
    "        spin = 0,\n",
    "    )\n",
    "    mol.build()\n",
    "    mf = scf.RHF(mol).run()\n",
    "    return mf, mol"
   ]
  },
  {
   "cell_type": "code",
   "execution_count": null,
   "id": "0ea274c2-c64e-41d7-8c5d-5880fb196d98",
   "metadata": {},
   "outputs": [],
   "source": [
    "mf, mol = run_calculation(xyz, basis=\"sto-3g\")"
   ]
  },
  {
   "cell_type": "markdown",
   "id": "cf422039-bf20-4aa3-8c47-69b583bf3355",
   "metadata": {},
   "source": [
    "To show some results from the calculation (for instance energies and contributions to the molecular orbitals)\n",
    "we can make use of `mf.analyze`.\n",
    "This is commented out here to reduce the output."
   ]
  },
  {
   "cell_type": "code",
   "execution_count": null,
   "id": "7d8e1b57-4a7d-4628-a3e3-965b47f9448b",
   "metadata": {},
   "outputs": [],
   "source": [
    "#mf.analyze(verbose=5)"
   ]
  },
  {
   "cell_type": "markdown",
   "id": "59f67d20-ef2a-4716-9651-0894fdee20b0",
   "metadata": {},
   "source": [
    "We can access the energy and occupancy of the molecular orbitals via the `.mo_energy`\n",
    "and `.mo_occ` attributes:"
   ]
  },
  {
   "cell_type": "code",
   "execution_count": null,
   "id": "6a981df3-674d-4e8e-94f3-6eed458ce6a8",
   "metadata": {},
   "outputs": [],
   "source": [
    "table = pd.DataFrame({\"Energy\": mf.mo_energy, \"Occupancy\": mf.mo_occ})\n",
    "table"
   ]
  },
  {
   "cell_type": "markdown",
   "id": "b1f33321-e110-4095-a324-c60bd16b29cc",
   "metadata": {},
   "source": [
    "Let us also make a plot of the energy levels:"
   ]
  },
  {
   "cell_type": "code",
   "execution_count": null,
   "id": "2d2c3d40-a0bd-4048-9bbe-901681ecc2c4",
   "metadata": {},
   "outputs": [],
   "source": [
    "fig, ax = plt.subplots(constrained_layout=True, figsize=(9, 6))\n",
    "#colors = matplotlib.cm.get_cmap(\"tab20\")(np.linspace(0, 1, len(mf.mo_energy)))\n",
    "colors = matplotlib.colormaps.get_cmap(\"tab20\")(np.linspace(0, 1, len(mf.mo_energy)))\n",
    "\n",
    "pos = []\n",
    "for i, (energy, occ) in enumerate(zip(mf.mo_energy, mf.mo_occ)):\n",
    "    left = 3 * i\n",
    "    right = 3 * i + 2.5\n",
    "    length = right - left\n",
    "\n",
    "    (line,) = ax.plot([left, right], [energy, energy], color=colors[i], lw=3)\n",
    "\n",
    "    electron_x, electron_y = None, None\n",
    "    if occ == 2:\n",
    "        electron_x = [left + 0.25 * length, left + 0.75 * length]\n",
    "        electron_y = [energy, energy]\n",
    "    elif occ == 1:\n",
    "        electron_x, electron_y = [left + 0.5], [energy]\n",
    "    if electron_x and electron_y:\n",
    "        ax.scatter(electron_x, electron_y, color=line.get_color())\n",
    "\n",
    "    pos.append(left + 0.5 * length)\n",
    "\n",
    "ax.axhline(y=0, ls=\":\", color=\"k\")\n",
    "ax.set_xticks(pos)\n",
    "ax.set_xticklabels([f\"#{i}\" for i, _ in enumerate(pos)])\n",
    "ax.set(xlabel=\"MO number\", ylabel=\"Energy / a.u.\")\n",
    "sns.despine(fig=fig)"
   ]
  },
  {
   "cell_type": "markdown",
   "id": "3e244d64-0708-4ef3-8852-2b463ee4e1dd",
   "metadata": {},
   "source": [
    "Now, we have the energies and occupancy. Next, we will display the orbitals and look at them. The canonical ones are\n",
    "available via `mf.mo_coeff` with the routine below:"
   ]
  },
  {
   "cell_type": "code",
   "execution_count": null,
   "id": "61010057-a8a7-498e-9158-e5182189a3b8",
   "metadata": {},
   "outputs": [],
   "source": [
    "def get_mo(mf, mol):\n",
    "    \"\"\"Get molecular orbitals\"\"\"\n",
    "    orbitals = {\"canonical\": mf.mo_coeff}\n",
    "    return orbitals"
   ]
  },
  {
   "cell_type": "code",
   "execution_count": null,
   "id": "5398c241-5eed-4a9e-b0b7-825edffc2f21",
   "metadata": {},
   "outputs": [],
   "source": [
    "orbitals = get_mo(mf, mol)"
   ]
  },
  {
   "cell_type": "markdown",
   "id": "a816fd8a-ce0d-40d4-aeb5-4ae1885d9685",
   "metadata": {},
   "source": [
    "## Visualizing the orbitals with fortecubeview"
   ]
  },
  {
   "cell_type": "markdown",
   "id": "f425cf51-74e5-48bb-8c34-51dafb697e95",
   "metadata": {},
   "source": [
    "For visualizing the molecular orbitals, it is convenient to write them as [cube files](http://paulbourke.net/dataformats/cube/). These cube files can be\n",
    "visualized in jupyter by [py3Dmol](https://pypi.org/project/py3Dmol) or [fortecubeview](https://github.com/evangelistalab/fortecubeview), or in external programs such as [VMD](https://www.ks.uiuc.edu/Research/vmd/).\n",
    "\n",
    "Here is a short method to write the cube files for some given molecular orbital coefficients:"
   ]
  },
  {
   "cell_type": "code",
   "execution_count": null,
   "id": "7122d9b5-cf5d-4b2e-9650-af0d2b9f9e5c",
   "metadata": {},
   "outputs": [],
   "source": [
    "def write_all_coeffs(\n",
    "    mol, coeffs, prefix=\"cmo\", dirname=\".\", margin=5, offset=0\n",
    "):\n",
    "    \"\"\"Write cube files for the given coefficients.\"\"\"\n",
    "    path = pathlib.Path(dirname)\n",
    "    path.mkdir(parents=True, exist_ok=True)\n",
    "\n",
    "    for i in range(coeffs.shape[1]):\n",
    "        outfile = f\"{prefix}_{i+offset:02d}.cube\"\n",
    "        outfile = path / outfile\n",
    "        print(f\"Writing {outfile}\")\n",
    "        tools.cubegen.orbital(mol, outfile, coeffs[:, i], margin=margin)"
   ]
  },
  {
   "cell_type": "markdown",
   "id": "a0349d25-2bf0-4b31-960e-3dba568769c0",
   "metadata": {},
   "source": [
    "To write all the canonical molecular orbitals `write_all_coeffs` into a subdirectory \"dirname\", can be used as follows:"
   ]
  },
  {
   "cell_type": "code",
   "execution_count": null,
   "id": "725d9bbb-2946-4a36-b1f5-bbf8e448682d",
   "metadata": {},
   "outputs": [],
   "source": [
    "write_all_coeffs(\n",
    "    mol,\n",
    "    orbitals[\"canonical\"],\n",
    "    prefix=f\"{molecule_name}_cmo\",\n",
    "    dirname=\"water\",\n",
    "    margin=5,\n",
    ")"
   ]
  },
  {
   "cell_type": "markdown",
   "id": "0aa6bf6d-976f-408f-8778-544015b14096",
   "metadata": {},
   "source": [
    "To display the molecular orbitals, [fortecubeview](https://github.com/evangelistalab/fortecubeview) is really convenient as we can give it a directory, and it will load all the cube files in that directory:"
   ]
  },
  {
   "cell_type": "code",
   "execution_count": null,
   "id": "7650a7a4-728f-4599-8d3c-1fa94ad95cf7",
   "metadata": {},
   "outputs": [],
   "source": [
    "fortecubeview.plot(path=\"./idontknow\", sumlevel=0.85)"
   ]
  }
 ],
 "metadata": {
  "kernelspec": {
   "display_name": "Python 3 (ipykernel)",
   "language": "python",
   "name": "python3"
  },
  "language_info": {
   "codemirror_mode": {
    "name": "ipython",
    "version": 3
   },
   "file_extension": ".py",
   "mimetype": "text/x-python",
   "name": "python",
   "nbconvert_exporter": "python",
   "pygments_lexer": "ipython3",
   "version": "3.9.6"
  }
 },
 "nbformat": 4,
 "nbformat_minor": 5
}
